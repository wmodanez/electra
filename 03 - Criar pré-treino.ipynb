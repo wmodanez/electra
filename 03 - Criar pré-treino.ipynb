{
 "cells": [
  {
   "cell_type": "markdown",
   "id": "federal-glenn",
   "metadata": {},
   "source": [
    "# Pre-train ELECTRA\n",
    "In this section, we will train ELECTRA from scratch with TensorFlow using scripts provided by ELECTRA’s authors in google-research/electra. Then we will convert the model to PyTorch’s checkpoint, which can be easily fine-tuned on downstream tasks using Hugging Face’s transformers library.\n",
    "\n",
    "## Setup\n",
    "- !pip install tensorflow-gpu==1.15\n",
    "- !pip install transformers==2.8.0\n",
    "- !pip install -U tensorboard\n",
    "- !git clone https://github.com/google-research/electra.git\n"
   ]
  },
  {
   "cell_type": "code",
   "execution_count": null,
   "id": "contained-indie",
   "metadata": {},
   "outputs": [],
   "source": [
    "import os, json, time\n",
    "\n",
    "from transformers import AutoTokenizer"
   ]
  },
  {
   "cell_type": "markdown",
   "id": "transsexual-mediterranean",
   "metadata": {},
   "source": [
    "### **Data**\n",
    "\n",
    "We will pre-train ELECTRA on a Portuguese movie subtitle dataset retrieved from OpenSubtitles concatened with Wikipedia in Portuguese and BrWac corpus. This dataset is 5.4 GB in size and we will train on a small subset of ~30 MB for presentation."
   ]
  },
  {
   "cell_type": "code",
   "execution_count": null,
   "id": "brave-street",
   "metadata": {},
   "outputs": [],
   "source": [
    "import pandas as pd\n",
    "\n",
    "from tokenizers.processors import BertProcessing\n",
    "from tokenizers import ByteLevelBPETokenizer, BertWordPieceTokenizer"
   ]
  },
  {
   "cell_type": "code",
   "execution_count": null,
   "id": "suspended-parameter",
   "metadata": {},
   "outputs": [],
   "source": [
    "# We will pre-train ELECTRA on a Spanish movie subtitle dataset retrieved from OpenSubtitles. This dataset is 5.4 GB in size and we will train on a small \n",
    "# subset of ~30 MB for presentation.\n",
    "DATA_DIR = 'data/' #@param {type: \"string\"}\n",
    "TRAIN_SIZE = 1000000 #@param {type:\"integer\"}\n",
    "TOKEN_DIR = 'data/vocab/'\n",
    "MODEL_NAME = 'electranez-small' #@param {type: \"string\"}"
   ]
  },
  {
   "cell_type": "markdown",
   "id": "large-chick",
   "metadata": {},
   "source": [
    "### **Build Pretraining Dataset**\n",
    "\n",
    "We will use the tokenizer of bert-base-multilingual-cased to process Portuguese texts."
   ]
  },
  {
   "cell_type": "code",
   "execution_count": null,
   "id": "ready-sequence",
   "metadata": {},
   "outputs": [],
   "source": [
    "# Save the pretrained WordPiece tokenizer to get vocab.txt\n",
    "tokenizer = AutoTokenizer.from_pretrained('bert-base-multilingual-cased')\n",
    "tokenizer.save_pretrained(DATA_DIR)"
   ]
  },
  {
   "cell_type": "markdown",
   "id": "divided-effort",
   "metadata": {},
   "source": [
    "**We use build_pretraining_dataset.py to create a pre-training dataset from a dump of raw text.**"
   ]
  },
  {
   "cell_type": "code",
   "execution_count": null,
   "id": "involved-hypothetical",
   "metadata": {},
   "outputs": [],
   "source": [
    "!python3 ../../google/electra/build_pretraining_dataset.py \\\n",
    "  --corpus-dir data/txt/ \\\n",
    "  --vocab-file data/electranez/vocab.txt \\\n",
    "  --output-dir data/electranez/pretrain_tfrecords/ \\\n",
    "  --max-seq-length 128 \\\n",
    "  --blanks-separate-docs False \\\n",
    "  --no-lower-case \\\n",
    "  --num-processes 5"
   ]
  },
  {
   "cell_type": "markdown",
   "id": "further-single",
   "metadata": {},
   "source": [
    "### **Start Training**\n",
    "We use run_pretraining.py to pre-train an ELECTRA model.\n",
    "\n",
    "To train a small ELECTRA model for 1 million steps, run:"
   ]
  },
  {
   "cell_type": "code",
   "execution_count": null,
   "id": "floppy-western",
   "metadata": {},
   "outputs": [],
   "source": [
    "MODEL_DIR = DATA_DIR + 'electranez/'"
   ]
  },
  {
   "cell_type": "code",
   "execution_count": null,
   "id": "continued-faculty",
   "metadata": {
    "tags": []
   },
   "outputs": [],
   "source": [
    "!python3 ../../google/electra/run_pretraining.py --data-dir $MODEL_DIR --model-name electranez-small"
   ]
  },
  {
   "cell_type": "markdown",
   "id": "czech-cocktail",
   "metadata": {},
   "source": [
    "This takes slightly over 4 days on a Tesla V100 GPU. However, the model should achieve decent results after 200k steps (10 hours of training on the v100 GPU).\n",
    "\n",
    "To customize the training, create a .json file containing the hyperparameters. Please refer configure_pretraining.py for default values of all hyperparameters.\n",
    "\n",
    "Below, we set the hyperparameters to train the model for only 100 steps."
   ]
  },
  {
   "cell_type": "code",
   "execution_count": null,
   "id": "photographic-adrian",
   "metadata": {},
   "outputs": [],
   "source": [
    "hparams = {\n",
    "    \"do_train\": \"true\",\n",
    "    \"do_eval\": \"false\",\n",
    "    \"model_size\": \"small\",\n",
    "    \"do_lower_case\": \"false\",\n",
    "    \"vocab_size\": 119547,\n",
    "    \"num_train_steps\": 10000,\n",
    "    \"save_checkpoints_steps\": 1000,\n",
    "    \"train_batch_size\": 32,\n",
    "    \"electra_objective\" :  True\n",
    "}\n",
    "\n",
    "with open(\"hparams.json\", \"w\") as f:\n",
    "    json.dump(hparams, f)"
   ]
  },
  {
   "cell_type": "code",
   "execution_count": null,
   "id": "toxic-viewer",
   "metadata": {
    "tags": []
   },
   "outputs": [],
   "source": [
    "# Let’s start training:\n",
    "start = time.time()\n",
    "\n",
    "!python3 ../../google/electra/run_pretraining.py --data-dir data/electranez/ --model-name $MODEL_NAME --hparams \"hparams.json\"\n",
    "\n",
    "print(time.time()-start)"
   ]
  },
  {
   "cell_type": "markdown",
   "id": "sticky-rubber",
   "metadata": {},
   "source": [
    "If you are training on a virtual machine, run the following lines on the terminal to moniter the training process with TensorBoard."
   ]
  },
  {
   "cell_type": "markdown",
   "id": "considerable-mountain",
   "metadata": {},
   "source": [
    "### Convert Tensorflow checkpoints to PyTorch format\n",
    "\n",
    "Hugging Face has a tool to convert Tensorflow checkpoints to PyTorch. However, this tool has yet been updated for ELECTRA. Fortunately, I found a GitHub repo by [@lonePatient](https://github.com/lonePatient/electra_pytorch.git) that can help us with this task.\n"
   ]
  },
  {
   "cell_type": "code",
   "execution_count": null,
   "id": "presidential-jackson",
   "metadata": {},
   "outputs": [],
   "source": [
    "MODEL_DIR = 'data/electranez'"
   ]
  },
  {
   "cell_type": "code",
   "execution_count": null,
   "id": "dramatic-cambodia",
   "metadata": {},
   "outputs": [],
   "source": [
    "config = {\n",
    "  \"vocab_size\": 119547,\n",
    "  \"embedding_size\": 128,\n",
    "  \"hidden_size\": 256,\n",
    "  \"num_hidden_layers\": 12,\n",
    "  \"num_attention_heads\": 4,\n",
    "  \"intermediate_size\": 1024,\n",
    "  \"generator_size\":\"0.25\",\n",
    "  \"hidden_act\": \"gelu\",\n",
    "  \"hidden_dropout_prob\": 0.1,\n",
    "  \"attention_probs_dropout_prob\": 0.1,\n",
    "  \"max_position_embeddings\": 512,\n",
    "  \"type_vocab_size\": 2,\n",
    "  \"initializer_range\": 0.02\n",
    "}\n",
    "\n",
    "with open(MODEL_DIR + \"/config.json\", \"w\") as f:\n",
    "    json.dump(config, f)"
   ]
  },
  {
   "cell_type": "code",
   "execution_count": null,
   "id": "liberal-declaration",
   "metadata": {},
   "outputs": [],
   "source": [
    "print(MODEL_DIR+'/models/electranez-small/')"
   ]
  },
  {
   "cell_type": "code",
   "execution_count": null,
   "id": "raised-venue",
   "metadata": {},
   "outputs": [],
   "source": [
    "!python ../../diversos/electra_pytorch/convert_electra_tf_checkpoint_to_pytorch.py \\\n",
    "    --tf_checkpoint_path= $MODEL_DIR/models/electranez-small/ \\\n",
    "    --electra_config_file=$MODEL_DIR/config.json \\\n",
    "    --pytorch_dump_path=$MODEL_DIR/pytorch_model.bin"
   ]
  },
  {
   "cell_type": "markdown",
   "id": "civic-cameroon",
   "metadata": {},
   "source": [
    "### Use ELECTRA with transformers\n",
    "\n",
    "After converting the model checkpoint to PyTorch format, we can start to use our pre-trained ELECTRA model on downstream tasks with the transformers library."
   ]
  },
  {
   "cell_type": "code",
   "execution_count": null,
   "id": "cathedral-merchandise",
   "metadata": {},
   "outputs": [],
   "source": [
    "import torch\n",
    "from transformers import ElectraForPreTraining, ElectraTokenizerFast"
   ]
  },
  {
   "cell_type": "code",
   "execution_count": null,
   "id": "mounted-terror",
   "metadata": {},
   "outputs": [],
   "source": [
    "discriminator = ElectraForPreTraining.from_pretrained(MODEL_DIR)\n",
    "tokenizer = ElectraTokenizerFast.from_pretrained(DATA_DIR, do_lower_case=False)"
   ]
  },
  {
   "cell_type": "code",
   "execution_count": null,
   "id": "adjustable-small",
   "metadata": {},
   "outputs": [],
   "source": [
    "sentence = \"Os pássaros estão cantando\" # The birds are singing\n",
    "fake_sentence = \"Os pássaros estão trabalhando\" # The birds are speaking \n",
    "\n",
    "fake_tokens = tokenizer.tokenize(fake_sentence, add_special_tokens=True)\n",
    "fake_inputs = tokenizer.encode(fake_sentence, return_tensors=\"pt\")\n",
    "discriminator_outputs = discriminator(fake_inputs)\n",
    "predictions = discriminator_outputs[0] > 0\n",
    "\n",
    "[print(\"%7s\" % token, end=\"\") for token in fake_tokens]\n",
    "print(\"\\n\")\n",
    "[print(\"%7s\" % int(prediction), end=\"\") for prediction in predictions.tolist()];"
   ]
  }
 ],
 "metadata": {
  "kernelspec": {
   "display_name": "Python 3",
   "language": "python",
   "name": "python3"
  },
  "language_info": {
   "codemirror_mode": {
    "name": "ipython",
    "version": 3
   },
   "file_extension": ".py",
   "mimetype": "text/x-python",
   "name": "python",
   "nbconvert_exporter": "python",
   "pygments_lexer": "ipython3",
   "version": "3.7.0"
  }
 },
 "nbformat": 4,
 "nbformat_minor": 5
}
