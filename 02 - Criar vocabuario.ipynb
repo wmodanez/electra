{
 "cells": [
  {
   "cell_type": "code",
   "execution_count": 1,
   "id": "sound-personality",
   "metadata": {},
   "outputs": [
    {
     "name": "stdout",
     "output_type": "stream",
     "text": [
      "tensorflow           2.0.0\n",
      "tensorflow-estimator 2.0.0\n",
      "tokenizers           0.10.2\n",
      "transformers         4.6.0.dev0\n"
     ]
    }
   ],
   "source": [
    "#Instalando a versão mais nova do transformers direto da master\n",
    "# !pip install git+https://github.com/huggingface/transformers\n",
    "# !pip install datasets\n",
    "!pip list | grep -E 'transformers|tokenizers|tensorflow'"
   ]
  },
  {
   "cell_type": "code",
   "execution_count": 2,
   "id": "numeric-fusion",
   "metadata": {},
   "outputs": [],
   "source": [
    "import os\n",
    "\n",
    "import pandas as pd\n",
    "\n",
    "from datetime import datetime\n",
    "from tokenizers.pre_tokenizers import Whitespace\n",
    "from tokenizers.processors import BertProcessing\n",
    "from tokenizers import ByteLevelBPETokenizer, BertWordPieceTokenizer\n",
    "from transformers import ElectraTokenizerFast"
   ]
  },
  {
   "cell_type": "code",
   "execution_count": 3,
   "id": "enabling-plane",
   "metadata": {},
   "outputs": [],
   "source": [
    "DATA_DIR = 'data/'\n",
    "TEXT_FILE = DATA_DIR + 'txt/text.txt'\n",
    "\n",
    "if not os.path.exists(DATA_DIR):\n",
    "    os.makedirs(DATA_DIR, mode=0o777)\n",
    "    \n",
    "if not os.path.exists(TEXT_FILE):\n",
    "    print('Corpus not found!')"
   ]
  },
  {
   "cell_type": "code",
   "execution_count": 4,
   "id": "billion-tribute",
   "metadata": {},
   "outputs": [],
   "source": [
    "tokenizer = BertWordPieceTokenizer(\n",
    "#     unk_token='[UNK]',\n",
    "#     sep_token='[SEP]',\n",
    "#     cls_token='[CLS]',\n",
    "#     pad_token='[PAD]',\n",
    "#     mask_token='[MASK]',\n",
    "    clean_text=True,\n",
    "    handle_chinese_chars=False,\n",
    "    strip_accents=True,\n",
    "    lowercase=True\n",
    ")\n",
    "\n",
    "tokenizer.pre_tokenizer = Whitespace()"
   ]
  },
  {
   "cell_type": "code",
   "execution_count": null,
   "id": "classified-tomorrow",
   "metadata": {},
   "outputs": [],
   "source": [
    "start_time = datetime.now()\n",
    "\n",
    "\n",
    "tokenizer.train(\n",
    "    files=[TEXT_FILE],\n",
    "    vocab_size=52000,\n",
    "    min_frequency=10,\n",
    "    limit_alphabet=10000,\n",
    "    special_tokens=['[UNK]', '[CLS]', '[SEP]', '[PAD]', '[MASK]'],\n",
    "    wordpieces_prefix='##',\n",
    "    show_progress=True\n",
    ")\n",
    "\n",
    "print('Duration: {}'.format(datetime.now() - start_time))"
   ]
  },
  {
   "cell_type": "code",
   "execution_count": null,
   "id": "exposed-howard",
   "metadata": {},
   "outputs": [],
   "source": [
    "VOCAB_DIR = DATA_DIR + 'vocab/'\n",
    "\n",
    "if not os.path.exists(VOCAB_DIR):\n",
    "  os.makedirs(VOCAB_DIR, mode=0o777)\n",
    "\n",
    "tokenizer.save_model(VOCAB_DIR)"
   ]
  },
  {
   "cell_type": "code",
   "execution_count": null,
   "id": "champion-aruba",
   "metadata": {},
   "outputs": [],
   "source": [
    "tokenizer.token_to_id('[SEP]')"
   ]
  },
  {
   "cell_type": "code",
   "execution_count": null,
   "id": "choice-invitation",
   "metadata": {},
   "outputs": [],
   "source": [
    "sentence = 'Sou da paz!'"
   ]
  },
  {
   "cell_type": "code",
   "execution_count": null,
   "id": "employed-sector",
   "metadata": {},
   "outputs": [],
   "source": [
    "saida = tokenizer.encode(sentence)"
   ]
  },
  {
   "cell_type": "code",
   "execution_count": null,
   "id": "described-nickname",
   "metadata": {},
   "outputs": [],
   "source": [
    "print(saida.tokens)\n",
    "print(saida.ids)"
   ]
  },
  {
   "cell_type": "code",
   "execution_count": null,
   "id": "finite-avatar",
   "metadata": {},
   "outputs": [],
   "source": [
    "print(saida.offsets[3])\n",
    "print(sentence[10:11])"
   ]
  },
  {
   "cell_type": "code",
   "execution_count": null,
   "id": "municipal-northwest",
   "metadata": {},
   "outputs": [],
   "source": [
    "sentence = [['Sou da paz!', 'Mas não mexa comigo!'], ['Um novo treinamento a cada dia.', 'Só assim se tem um campeão.']]"
   ]
  },
  {
   "cell_type": "code",
   "execution_count": null,
   "id": "superior-candy",
   "metadata": {},
   "outputs": [],
   "source": [
    "saida = tokenizer.encode_batch(sentence)"
   ]
  },
  {
   "cell_type": "code",
   "execution_count": null,
   "id": "colonial-individual",
   "metadata": {},
   "outputs": [],
   "source": [
    "tokenizer.enable_padding(pad_id=3, pad_token='[PAD]')"
   ]
  },
  {
   "cell_type": "code",
   "execution_count": null,
   "id": "partial-configuration",
   "metadata": {},
   "outputs": [],
   "source": [
    "print(saida[1].tokens)"
   ]
  },
  {
   "cell_type": "code",
   "execution_count": null,
   "id": "fewer-fundamental",
   "metadata": {},
   "outputs": [],
   "source": [
    "tokenizer._tokenizer.post_processor = BertProcessing(\n",
    "    ('[SEP]', tokenizer.token_to_id('[SEP]')),\n",
    "    ('[CLS]', tokenizer.token_to_id('[CLS]')),\n",
    ")\n",
    "\n",
    "tokenizer.enable_truncation(max_length=512)"
   ]
  },
  {
   "cell_type": "code",
   "execution_count": null,
   "id": "graduate-secretary",
   "metadata": {},
   "outputs": [],
   "source": [
    "tokenizer.encode('Sou da paz!').tokens"
   ]
  }
 ],
 "metadata": {
  "kernelspec": {
   "display_name": "Python 3",
   "language": "python",
   "name": "python3"
  },
  "language_info": {
   "codemirror_mode": {
    "name": "ipython",
    "version": 3
   },
   "file_extension": ".py",
   "mimetype": "text/x-python",
   "name": "python",
   "nbconvert_exporter": "python",
   "pygments_lexer": "ipython3",
   "version": "3.7.0"
  }
 },
 "nbformat": 4,
 "nbformat_minor": 5
}
