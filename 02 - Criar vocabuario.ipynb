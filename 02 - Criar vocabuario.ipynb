{
 "cells": [
  {
   "cell_type": "code",
   "execution_count": null,
   "id": "inner-infection",
   "metadata": {},
   "outputs": [],
   "source": [
    "#Instalando a versão mais nova do transformers direto da master\n",
    "# !pip install git+https://github.com/huggingface/transformers\n",
    "# !pip install datasets\n",
    "!pip list | grep -E 'transformers|tokenizers|tensorflow'"
   ]
  },
  {
   "cell_type": "code",
   "execution_count": 1,
   "id": "maritime-davis",
   "metadata": {},
   "outputs": [],
   "source": [
    "import os\n",
    "\n",
    "import pandas as pd\n",
    "\n",
    "from datetime import datetime\n",
    "from tokenizers.processors import BertProcessing\n",
    "from tokenizers import ByteLevelBPETokenizer, BertWordPieceTokenizer"
   ]
  },
  {
   "cell_type": "code",
   "execution_count": 2,
   "id": "front-decline",
   "metadata": {},
   "outputs": [],
   "source": [
    "DATA_DIR = 'data/'\n",
    "TEXT_FILE = DATA_DIR + 'txt/text.txt'\n",
    "\n",
    "\n",
    "if not os.path.exists(DATA_DIR):\n",
    "    os.makedirs(DATA_DIR, mode=0o777)\n",
    "\n",
    "if not os.path.exists(TEXT_FILE):\n",
    "    print('Corpus not found!')"
   ]
  },
  {
   "cell_type": "code",
   "execution_count": 4,
   "id": "foster-trading",
   "metadata": {},
   "outputs": [],
   "source": [
    "tokenizer = BertWordPieceTokenizer(\n",
    "#     unk_token='[UNK]',\n",
    "#     sep_token='[SEP]',\n",
    "#     cls_token='[CLS]',\n",
    "#     pad_token='[PAD]',\n",
    "#     mask_token='[MASK]',\n",
    "    clean_text=True,\n",
    "    handle_chinese_chars=False,\n",
    "    strip_accents=False,\n",
    "    lowercase=False\n",
    ")"
   ]
  },
  {
   "cell_type": "code",
   "execution_count": 5,
   "id": "excessive-voltage",
   "metadata": {},
   "outputs": [
    {
     "name": "stdout",
     "output_type": "stream",
     "text": [
      "Duration: 0:02:30.567003\n"
     ]
    }
   ],
   "source": [
    "start_time = datetime.now()\n",
    "\n",
    "tokenizer.train(\n",
    "    files=[TEXT_FILE],\n",
    "    vocab_size=52000,\n",
    "    min_frequency=30,\n",
    "    limit_alphabet=10000,\n",
    "    special_tokens=['[PAD]', '[UNK]', '[CLS]', '[MASK]', '[SEP]'],\n",
    "    wordpieces_prefix='##',\n",
    "    show_progress=True\n",
    ")\n",
    "\n",
    "del TEXT_FILE\n",
    "print('Duration: {}'.format(datetime.now() - start_time))"
   ]
  },
  {
   "cell_type": "code",
   "execution_count": 8,
   "id": "outdoor-seminar",
   "metadata": {},
   "outputs": [],
   "source": [
    "VOCAB_DIR = DATA_DIR + 'vocab/'\n",
    "\n",
    "if not os.path.exists(VOCAB_DIR):\n",
    "  os.makedirs(VOCAB_DIR, mode=0o777)\n",
    "\n",
    "tokenizer.save(VOCAB_DIR + 'vocab.txt')\n",
    "del VOCAB_DIR, DATA_DIR"
   ]
  },
  {
   "cell_type": "code",
   "execution_count": null,
   "id": "potential-donna",
   "metadata": {},
   "outputs": [],
   "source": [
    "tokenizer.encode('Sou da paz!').tokens"
   ]
  },
  {
   "cell_type": "code",
   "execution_count": null,
   "id": "traditional-prompt",
   "metadata": {},
   "outputs": [],
   "source": [
    "tokenizer._tokenizer.post_processor = BertProcessing(\n",
    "    ('[SEP]', tokenizer.token_to_id('[SEP]')),\n",
    "    ('[CLS]', tokenizer.token_to_id('[CLS]')),\n",
    ")\n",
    "\n",
    "tokenizer.enable_truncation(max_length=512)"
   ]
  },
  {
   "cell_type": "code",
   "execution_count": null,
   "id": "close-fortune",
   "metadata": {},
   "outputs": [],
   "source": [
    "tokenizer.encode('Sou da paz!').tokens"
   ]
  }
 ],
 "metadata": {
  "kernelspec": {
   "display_name": "Python 3",
   "language": "python",
   "name": "python3"
  },
  "language_info": {
   "codemirror_mode": {
    "name": "ipython",
    "version": 3
   },
   "file_extension": ".py",
   "mimetype": "text/x-python",
   "name": "python",
   "nbconvert_exporter": "python",
   "pygments_lexer": "ipython3",
   "version": "3.7.0"
  }
 },
 "nbformat": 4,
 "nbformat_minor": 5
}
