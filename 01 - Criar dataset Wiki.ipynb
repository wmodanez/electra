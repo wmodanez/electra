{
 "cells": [
  {
   "cell_type": "code",
   "execution_count": 1,
   "id": "composite-schedule",
   "metadata": {},
   "outputs": [],
   "source": [
    "import re, json\n",
    "import pandas as pd"
   ]
  },
  {
   "cell_type": "code",
   "execution_count": null,
   "id": "sticky-queensland",
   "metadata": {},
   "outputs": [],
   "source": [
    "!python -m WikiExtractor data/ptwiki-latest-pages-articles.xml.bz2 --json"
   ]
  },
  {
   "cell_type": "code",
   "execution_count": 6,
   "id": "pointed-insertion",
   "metadata": {},
   "outputs": [],
   "source": [
    "TAG_RE = re.compile(r'<[^>]+>')\n",
    "\n",
    "\n",
    "def remove_tags(text):\n",
    "    return TAG_RE.sub('', text)\n",
    "\n",
    "# Função para remover quaisquer pontuações e caracteres especiais\n",
    "def preprocess_text(sen):\n",
    "    # Removing html tags\n",
    "    sentence = remove_tags(sen)\n",
    "\n",
    "    # Remove punctuations and numbers\n",
    "    sentence = re.sub('[^a-zA-Z]', ' ', sentence)\n",
    "\n",
    "    # Single character removal\n",
    "    sentence = re.sub(r\"\\s+[a-zA-Z]\\s+\", ' ', sentence)\n",
    "\n",
    "    # Removing multiple spaces\n",
    "    sentence = re.sub(r'\\s+', ' ', sentence)\n",
    "\n",
    "    return sentence\n",
    "\n",
    "def save_txt(text, file):\n",
    "    f = open(file, 'a')\n",
    "    f.write(text)\n",
    "    f.close()"
   ]
  },
  {
   "cell_type": "code",
   "execution_count": 2,
   "id": "monetary-lighter",
   "metadata": {},
   "outputs": [],
   "source": [
    "with open('text/wiki.json') as json_file:      \n",
    "    data = json_file.readlines()\n",
    "    # this line below may take at least 8-10 minutes of processing for 4-5 million rows. It converts all strings in list to actual json objects. \n",
    "    data = list(map(json.loads, data)) "
   ]
  },
  {
   "cell_type": "code",
   "execution_count": 3,
   "id": "found-consistency",
   "metadata": {},
   "outputs": [],
   "source": [
    "df_wiki = pd.DataFrame(data)"
   ]
  },
  {
   "cell_type": "code",
   "execution_count": 4,
   "id": "retired-elephant",
   "metadata": {},
   "outputs": [
    {
     "name": "stdout",
     "output_type": "stream",
     "text": [
      "<class 'pandas.core.frame.DataFrame'>\n",
      "RangeIndex: 1057059 entries, 0 to 1057058\n",
      "Data columns (total 3 columns):\n",
      " #   Column  Non-Null Count    Dtype \n",
      "---  ------  --------------    ----- \n",
      " 0   id      1057059 non-null  object\n",
      " 1   title   1057059 non-null  object\n",
      " 2   text    1057059 non-null  object\n",
      "dtypes: object(3)\n",
      "memory usage: 24.2+ MB\n"
     ]
    }
   ],
   "source": [
    "df_wiki = df_wiki.drop('url', axis=1)\n",
    "df_wiki.info()"
   ]
  },
  {
   "cell_type": "code",
   "execution_count": 7,
   "id": "religious-institute",
   "metadata": {},
   "outputs": [],
   "source": [
    "df_wiki['text'] = df_wiki['text'].apply(preprocess_text)"
   ]
  },
  {
   "cell_type": "code",
   "execution_count": 8,
   "id": "declared-february",
   "metadata": {},
   "outputs": [
    {
     "name": "stdout",
     "output_type": "stream",
     "text": [
      "Exportado\n"
     ]
    }
   ],
   "source": [
    "df_wiki['text'].sample(frac=.5).to_csv('data/texto-sm.csv', index=False)\n",
    "df_wiki['text'].sample(frac=.25).apply(preprocess_text).to_csv('data/texto-md.csv', index=False)\n",
    "df_wiki['text'].to_csv('data/texto-lg.csv', index=False)\n",
    "print('Exportado')"
   ]
  },
  {
   "cell_type": "code",
   "execution_count": null,
   "id": "induced-expansion",
   "metadata": {},
   "outputs": [],
   "source": [
    "# df_wiki['text'].sample(frac=.5).apply(save_txt, file='data/texto-sm.txt')\n",
    "# df_wiki['text'].sample(frac=.25).apply(save_txt, file='data/texto-md.txt')\n",
    "# df_wiki['text'].apply(save_txt, file='data/texto-lg.txt')\n",
    "# print('Exportado')"
   ]
  },
  {
   "cell_type": "code",
   "execution_count": null,
   "id": "explicit-alexandria",
   "metadata": {},
   "outputs": [],
   "source": []
  }
 ],
 "metadata": {
  "kernelspec": {
   "display_name": "Python 3",
   "language": "python",
   "name": "python3"
  },
  "language_info": {
   "codemirror_mode": {
    "name": "ipython",
    "version": 3
   },
   "file_extension": ".py",
   "mimetype": "text/x-python",
   "name": "python",
   "nbconvert_exporter": "python",
   "pygments_lexer": "ipython3",
   "version": "3.6.12"
  }
 },
 "nbformat": 4,
 "nbformat_minor": 5
}
