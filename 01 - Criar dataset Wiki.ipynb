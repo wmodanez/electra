{
 "cells": [
  {
   "cell_type": "code",
   "execution_count": 4,
   "id": "missing-minnesota",
   "metadata": {},
   "outputs": [],
   "source": [
    "import json\n",
    "import pandas as pd"
   ]
  },
  {
   "cell_type": "code",
   "execution_count": null,
   "id": "virgin-dinner",
   "metadata": {},
   "outputs": [],
   "source": [
    "!python -m WikiExtractor ptwiki-latest-pages-articles.xml.bz2 --json"
   ]
  },
  {
   "cell_type": "code",
   "execution_count": 5,
   "id": "worse-denial",
   "metadata": {},
   "outputs": [],
   "source": [
    "with open('text/wiki.json') as json_file:      \n",
    "    data = json_file.readlines()\n",
    "    # this line below may take at least 8-10 minutes of processing for 4-5 million rows. It converts all strings in list to actual json objects. \n",
    "    data = list(map(json.loads, data)) "
   ]
  },
  {
   "cell_type": "code",
   "execution_count": 7,
   "id": "fossil-freeware",
   "metadata": {},
   "outputs": [],
   "source": [
    "df_wiki = pd.DataFrame(data)"
   ]
  },
  {
   "cell_type": "code",
   "execution_count": 10,
   "id": "european-bachelor",
   "metadata": {},
   "outputs": [
    {
     "name": "stdout",
     "output_type": "stream",
     "text": [
      "<class 'pandas.core.frame.DataFrame'>\n",
      "RangeIndex: 1054362 entries, 0 to 1054361\n",
      "Data columns (total 3 columns):\n",
      " #   Column  Non-Null Count    Dtype \n",
      "---  ------  --------------    ----- \n",
      " 0   id      1054362 non-null  object\n",
      " 1   title   1054362 non-null  object\n",
      " 2   text    1054362 non-null  object\n",
      "dtypes: object(3)\n",
      "memory usage: 24.1+ MB\n"
     ]
    }
   ],
   "source": [
    "df_wiki = df_wiki.drop('url', axis=1)\n",
    "df_wiki.info()"
   ]
  },
  {
   "cell_type": "code",
   "execution_count": 11,
   "id": "technological-wireless",
   "metadata": {},
   "outputs": [],
   "source": [
    "df_wiki.to_csv('data/wiki.csv', sep='|')"
   ]
  },
  {
   "cell_type": "code",
   "execution_count": null,
   "id": "provincial-rotation",
   "metadata": {},
   "outputs": [],
   "source": []
  }
 ],
 "metadata": {
  "kernelspec": {
   "display_name": "Python 3",
   "language": "python",
   "name": "python3"
  },
  "language_info": {
   "codemirror_mode": {
    "name": "ipython",
    "version": 3
   },
   "file_extension": ".py",
   "mimetype": "text/x-python",
   "name": "python",
   "nbconvert_exporter": "python",
   "pygments_lexer": "ipython3",
   "version": "3.7.0"
  }
 },
 "nbformat": 4,
 "nbformat_minor": 5
}
