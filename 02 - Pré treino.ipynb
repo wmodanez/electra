{
 "cells": [
  {
   "cell_type": "code",
   "execution_count": null,
   "id": "annual-arrow",
   "metadata": {},
   "outputs": [],
   "source": [
    "#Instalando a versão mais nova do transformers direto da master\n",
    "# !pip install git+https://github.com/huggingface/transformers\n",
    "# !pip install datasets\n",
    "!pip list | grep -E 'transformers|tokenizers|tensorflow'"
   ]
  },
  {
   "cell_type": "code",
   "execution_count": null,
   "id": "russian-division",
   "metadata": {},
   "outputs": [],
   "source": [
    "import os\n",
    "\n",
    "import pandas as pd\n",
    "\n",
    "from tokenizers.processors import BertProcessing\n",
    "from tokenizers import ByteLevelBPETokenizer, BertWordPieceTokenizer"
   ]
  },
  {
   "cell_type": "code",
   "execution_count": null,
   "id": "electronic-january",
   "metadata": {},
   "outputs": [],
   "source": [
    "tokenizer = BertWordPieceTokenizer(\n",
    "#     unk_token='[UNK]',\n",
    "#     sep_token='[SEP]',\n",
    "#     cls_token='[CLS]',\n",
    "#     pad_token='[PAD]',\n",
    "#     mask_token='[MASK]',\n",
    "    clean_text=True,\n",
    "    handle_chinese_chars=False,\n",
    "    strip_accents=False,\n",
    "    lowercase=True,\n",
    "#     tokenize_chinese_chars=True\n",
    ")"
   ]
  },
  {
   "cell_type": "code",
   "execution_count": null,
   "id": "substantial-arthur",
   "metadata": {},
   "outputs": [],
   "source": [
    "tokenizer.train(\n",
    "    files=['data/txt/texto-sm.txt'],\n",
    "    vocab_size=52000,\n",
    "    min_frequency=50,\n",
    "    limit_alphabet=10000,\n",
    "    special_tokens=['[PAD]', '[UNK]', '[CLS]', '[MASK]', '[SEP]'],\n",
    "    wordpieces_prefix='##',\n",
    "    show_progress=True\n",
    ")"
   ]
  },
  {
   "cell_type": "code",
   "execution_count": null,
   "id": "popular-aging",
   "metadata": {},
   "outputs": [],
   "source": [
    "token_dir = 'data/vocab/'\n",
    "\n",
    "if not os.path.exists(token_dir):\n",
    "  os.makedirs(token_dir)\n",
    "\n",
    "tokenizer.save(token_dir)\n",
    "! cp data/vocab/vocab.txt data/electranez/"
   ]
  },
  {
   "cell_type": "code",
   "execution_count": null,
   "id": "vulnerable-watch",
   "metadata": {},
   "outputs": [],
   "source": [
    "tokenizer.encode('Sou da paz!').tokens"
   ]
  },
  {
   "cell_type": "code",
   "execution_count": null,
   "id": "virtual-cooperation",
   "metadata": {},
   "outputs": [],
   "source": [
    "tokenizer._tokenizer.post_processor = BertProcessing(\n",
    "    ('[SEP]', tokenizer.token_to_id('[SEP]')),\n",
    "    ('[CLS]', tokenizer.token_to_id('[CLS]')),\n",
    ")\n",
    "\n",
    "tokenizer.enable_truncation(max_length=512)"
   ]
  },
  {
   "cell_type": "code",
   "execution_count": null,
   "id": "polished-trust",
   "metadata": {},
   "outputs": [],
   "source": [
    "tokenizer.encode('Sou da paz!').tokens"
   ]
  }
 ],
 "metadata": {
  "kernelspec": {
   "display_name": "Python 3",
   "language": "python",
   "name": "python3"
  },
  "language_info": {
   "codemirror_mode": {
    "name": "ipython",
    "version": 3
   },
   "file_extension": ".py",
   "mimetype": "text/x-python",
   "name": "python",
   "nbconvert_exporter": "python",
   "pygments_lexer": "ipython3",
   "version": "3.7.0"
  }
 },
 "nbformat": 4,
 "nbformat_minor": 5
}
